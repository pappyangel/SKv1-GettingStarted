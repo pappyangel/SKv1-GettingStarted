{
 "cells": [
  {
   "cell_type": "code",
   "execution_count": null,
   "metadata": {
    "dotnet_interactive": {
     "language": "csharp"
    },
    "polyglot_notebook": {
     "kernelName": "csharp"
    }
   },
   "outputs": [],
   "source": [
    "#!import ../Settings/AppConfig.cs\n",
    "\n",
    "AppConfig.aoaiSettings apiConfig = AppConfig.GetSecrets();\n",
    "\n",
    "// Get AOAI values\n",
    "string mydeploymentName = apiConfig.deployTurbo;\n",
    "string myendpoint = apiConfig.endpoint;\n",
    "string myAPIKey = apiConfig.APIKey;\n",
    "\n",
    "//NOTE: If you run the below writeline command, be sure to clear the output before pushing to repo!!\n",
    "//Console.WriteLine(mydeploymentName + \" & \" + myendpoint + \" & \" + myAPIKey);"
   ]
  },
  {
   "cell_type": "code",
   "execution_count": null,
   "metadata": {
    "dotnet_interactive": {
     "language": "csharp"
    },
    "polyglot_notebook": {
     "kernelName": "csharp"
    }
   },
   "outputs": [],
   "source": [
    "// Import Semantic Kernel\n",
    "#r \"nuget: Microsoft.SemanticKernel, 1.0.1\""
   ]
  },
  {
   "cell_type": "code",
   "execution_count": null,
   "metadata": {
    "dotnet_interactive": {
     "language": "csharp"
    },
    "polyglot_notebook": {
     "kernelName": "csharp"
    }
   },
   "outputs": [],
   "source": [
    "using Microsoft.SemanticKernel;\n",
    "using Kernel = Microsoft.SemanticKernel.Kernel;\n",
    "\n",
    "//Create Kernel builder\n",
    "var builder = Kernel.CreateBuilder();\n",
    "\n",
    "// Configure AI service credentials used by the kernel\n",
    "\n",
    "builder.AddAzureOpenAIChatCompletion(mydeploymentName, myendpoint, myAPIKey);\n",
    "\n",
    "\n",
    "var SK = builder.Build();"
   ]
  },
  {
   "cell_type": "code",
   "execution_count": null,
   "metadata": {
    "dotnet_interactive": {
     "language": "csharp"
    },
    "polyglot_notebook": {
     "kernelName": "csharp"
    }
   },
   "outputs": [],
   "source": [
    "// Batman Chat Plugin directory path\n",
    "var chatPluginDirectoryPath = Path.Combine(System.IO.Directory.GetCurrentDirectory(), \"..\", \"plugins\", \"ChatPlugin\");\n",
    "\n",
    "// Load the ChatPlugin from the Plugins Directory\n",
    "var chatPluginFunctions = SK.ImportPluginFromPromptDirectory(chatPluginDirectoryPath);\n",
    "\n",
    "//Console.WriteLine(chatPluginDirectoryPath.ToString());\n",
    "//Console.WriteLine(chatPluginFunctions.ToString());\n"
   ]
  },
  {
   "cell_type": "code",
   "execution_count": null,
   "metadata": {
    "dotnet_interactive": {
     "language": "csharp"
    },
    "polyglot_notebook": {
     "kernelName": "csharp"
    }
   },
   "outputs": [],
   "source": [
    "// create Chat Function from plugin dir\n",
    "//var batmanChatFunction = SK.CreatePluginFromObject(chatPluginFunctions,\"BatmanChat\");\n",
    "\n",
    "var batmanChatFunction = SK.CreatePluginFromPromptDirectory(chatPluginDirectoryPath,\"BatmanChat\");\n",
    "\n",
    "//Object(chatPluginFunctions,\"BatmanChat\");"
   ]
  },
  {
   "cell_type": "code",
   "execution_count": null,
   "metadata": {
    "dotnet_interactive": {
     "language": "csharp"
    },
    "polyglot_notebook": {
     "kernelName": "csharp"
    }
   },
   "outputs": [],
   "source": [
    "var history = \"\";\n",
    "var arguments = new KernelArguments()\n",
    "{\n",
    "    [\"history\"] = history\n",
    "};"
   ]
  },
  {
   "cell_type": "code",
   "execution_count": null,
   "metadata": {
    "dotnet_interactive": {
     "language": "csharp"
    },
    "polyglot_notebook": {
     "kernelName": "csharp"
    }
   },
   "outputs": [],
   "source": [
    "var input = \"Who is your favorite villain?\";\n",
    "arguments[\"input\"] = input;\n",
    "\n",
    "var batman_answer = SK.InvokeStreamingAsync<StreamingChatMessageContent>(batmanChatFunction[\"BatmanChat\"], arguments);\n"
   ]
  },
  {
   "cell_type": "code",
   "execution_count": 16,
   "metadata": {
    "dotnet_interactive": {
     "language": "csharp"
    },
    "polyglot_notebook": {
     "kernelName": "csharp"
    }
   },
   "outputs": [
    {
     "name": "stdout",
     "output_type": "stream",
     "text": [
      "assistant > The Joker. He's a formidable foe, but I will always be ready to stop his evil plans.\n"
     ]
    }
   ],
   "source": [
    "  // Stream the response\n",
    "    string message = \"\";\n",
    "    await foreach (var chunk in batman_answer)\n",
    "    {\n",
    "        if (chunk.Role.HasValue) Console.Write(chunk.Role + \" > \");\n",
    "        message += chunk;\n",
    "        Console.Write(chunk);\n",
    "    }\n",
    "    Console.WriteLine();"
   ]
  }
 ],
 "metadata": {
  "kernelspec": {
   "display_name": ".NET (C#)",
   "language": "C#",
   "name": ".net-csharp"
  },
  "language_info": {
   "name": "polyglot-notebook"
  },
  "polyglot_notebook": {
   "kernelInfo": {
    "defaultKernelName": "csharp",
    "items": [
     {
      "aliases": [],
      "languageName": "csharp",
      "name": "csharp"
     }
    ]
   }
  }
 },
 "nbformat": 4,
 "nbformat_minor": 2
}
