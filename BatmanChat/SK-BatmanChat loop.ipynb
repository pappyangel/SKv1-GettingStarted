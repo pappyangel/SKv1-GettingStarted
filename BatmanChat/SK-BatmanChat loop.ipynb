{
 "cells": [
  {
   "cell_type": "code",
   "execution_count": 1,
   "metadata": {
    "dotnet_interactive": {
     "language": "csharp"
    },
    "polyglot_notebook": {
     "kernelName": "csharp"
    }
   },
   "outputs": [],
   "source": [
    "#!import ../Settings/AppConfig.cs\n",
    "\n",
    "AppConfig.aoaiSettings apiConfig = AppConfig.GetSecrets();\n",
    "\n",
    "// Get AOAI values\n",
    "string mydeploymentName = apiConfig.deployTurbo;\n",
    "string myendpoint = apiConfig.endpoint;\n",
    "string myAPIKey = apiConfig.APIKey;\n",
    "\n",
    "//NOTE: If you run the below writeline command, be sure to clear the output before pushing to repo!!\n",
    "//Console.WriteLine(mydeploymentName + \" & \" + myendpoint + \" & \" + myAPIKey);"
   ]
  },
  {
   "cell_type": "code",
   "execution_count": 2,
   "metadata": {
    "dotnet_interactive": {
     "language": "csharp"
    },
    "polyglot_notebook": {
     "kernelName": "csharp"
    }
   },
   "outputs": [
    {
     "data": {
      "text/html": [
       "<div><div></div><div></div><div><strong>Installed Packages</strong><ul><li><span>Microsoft.SemanticKernel, 1.0.1</span></li></ul></div></div>"
      ]
     },
     "metadata": {},
     "output_type": "display_data"
    }
   ],
   "source": [
    "// Import Semantic Kernel\n",
    "#r \"nuget: Microsoft.SemanticKernel, 1.0.1\""
   ]
  },
  {
   "cell_type": "code",
   "execution_count": 3,
   "metadata": {
    "dotnet_interactive": {
     "language": "csharp"
    },
    "polyglot_notebook": {
     "kernelName": "csharp"
    }
   },
   "outputs": [],
   "source": [
    "using Microsoft.SemanticKernel;\n",
    "using Kernel = Microsoft.SemanticKernel.Kernel;\n",
    "\n",
    "//Create Kernel builder\n",
    "var builder = Kernel.CreateBuilder();\n",
    "\n",
    "// Configure AI service credentials used by the kernel\n",
    "builder.AddAzureOpenAIChatCompletion(mydeploymentName, myendpoint, myAPIKey);\n",
    "\n",
    "\n",
    "var SK = builder.Build();"
   ]
  },
  {
   "cell_type": "code",
   "execution_count": 4,
   "metadata": {
    "dotnet_interactive": {
     "language": "csharp"
    },
    "polyglot_notebook": {
     "kernelName": "csharp"
    }
   },
   "outputs": [],
   "source": [
    "// Batman Chat Plugin directory path\n",
    "var chatPluginDirectoryPath = Path.Combine(System.IO.Directory.GetCurrentDirectory(), \"..\", \"plugins\", \"ChatPlugin\");\n",
    "\n",
    "// Create the Chat Function from the Plugins Directory\n",
    "var batmanChatFunction = SK.CreatePluginFromPromptDirectory(chatPluginDirectoryPath,\"BatmanChat\");\n"
   ]
  },
  {
   "cell_type": "code",
   "execution_count": null,
   "metadata": {
    "dotnet_interactive": {
     "language": "csharp"
    },
    "polyglot_notebook": {
     "kernelName": "csharp"
    }
   },
   "outputs": [],
   "source": [
    "var history = \"\";\n",
    "var arguments = new KernelArguments()\n",
    "{\n",
    "    [\"history\"] = history\n",
    "};\n",
    "\n",
    "var input = \"Who is your favorite villain?\";\n",
    "arguments[\"input\"] = input;"
   ]
  },
  {
   "cell_type": "code",
   "execution_count": 9,
   "metadata": {
    "dotnet_interactive": {
     "language": "csharp"
    },
    "polyglot_notebook": {
     "kernelName": "csharp"
    }
   },
   "outputs": [
    {
     "name": "stdout",
     "output_type": "stream",
     "text": [
      "Fan question: where do you work. assistant > I work in Gotham City, protecting its citizens from crime and injustice.\n",
      "Fan question: do you work with the police. assistant > Yes, I work closely with Commissioner Gordon and the Gotham City Police Department to keep the city safe.\n",
      "Fan question: who is your favorite villian. assistant > I do not have a favorite villain. All criminals must be brought to justice.\n",
      "Fan question: do you love cat woman. assistant > I do not have romantic feelings towards any criminals, including Catwoman. My focus is on protecting Gotham City and upholding justice.\n"
     ]
    },
    {
     "ename": "Error",
     "evalue": "Input request cancelled",
     "output_type": "error",
     "traceback": [
      "Input request cancelled"
     ]
    },
    {
     "ename": "Error",
     "evalue": "System.Exception: Input request cancelled\n   at Microsoft.DotNet.Interactive.Kernel.GetInputAsync(String prompt, Boolean isPassword, String typeHint, String valueName) in D:\\a\\_work\\1\\s\\src\\Microsoft.DotNet.Interactive\\Kernel.Static.cs:line 72\n   at Microsoft.DotNet.Interactive.Kernel.GetInputAsync(String prompt, String typeHint, String valueName) in D:\\a\\_work\\1\\s\\src\\Microsoft.DotNet.Interactive\\Kernel.Static.cs:line 46\n   at Submission#11.<<Initialize>>d__0.MoveNext()\n--- End of stack trace from previous location ---\n   at Microsoft.CodeAnalysis.Scripting.ScriptExecutionState.RunSubmissionsAsync[TResult](ImmutableArray`1 precedingExecutors, Func`2 currentExecutor, StrongBox`1 exceptionHolderOpt, Func`2 catchExceptionOpt, CancellationToken cancellationToken)",
     "output_type": "error",
     "traceback": [
      "System.Exception: Input request cancelled\n",
      "   at Microsoft.DotNet.Interactive.Kernel.GetInputAsync(String prompt, Boolean isPassword, String typeHint, String valueName) in D:\\a\\_work\\1\\s\\src\\Microsoft.DotNet.Interactive\\Kernel.Static.cs:line 72\n",
      "   at Microsoft.DotNet.Interactive.Kernel.GetInputAsync(String prompt, String typeHint, String valueName) in D:\\a\\_work\\1\\s\\src\\Microsoft.DotNet.Interactive\\Kernel.Static.cs:line 46\n",
      "   at Submission#11.<<Initialize>>d__0.MoveNext()\n",
      "--- End of stack trace from previous location ---\n",
      "   at Microsoft.CodeAnalysis.Scripting.ScriptExecutionState.RunSubmissionsAsync[TResult](ImmutableArray`1 precedingExecutors, Func`2 currentExecutor, StrongBox`1 exceptionHolderOpt, Func`2 catchExceptionOpt, CancellationToken cancellationToken)"
     ]
    }
   ],
   "source": [
    "using Microsoft.DotNet.Interactive;\n",
    "using Microsoft.SemanticKernel.ChatCompletion;\n",
    "\n",
    "// Batman Chat Plugin directory path\n",
    "var chatPluginDirectoryPath = Path.Combine(System.IO.Directory.GetCurrentDirectory(), \"..\", \"plugins\", \"ChatPlugin\");\n",
    "\n",
    "// create Chat Function from plugin dir\n",
    "var batmanChatFunction = SK.CreatePluginFromPromptDirectory(chatPluginDirectoryPath,\"BatmanChat\");\n",
    "\n",
    "// Create chat history\n",
    "ChatHistory history = [];\n",
    "var interactiveinput = \"\";\n",
    "\n",
    "// Start the chat loop\n",
    "while (true)\n",
    "{\n",
    "    // Get user input\n",
    "    interactiveinput = await GetInputAsync(\"Pick a number.\");    \n",
    "\n",
    "    // Get chat response\n",
    "    var batman_answer = SK.InvokeStreamingAsync<StreamingChatMessageContent>(batmanChatFunction[\"BatmanChat\"], \n",
    "                        new() { { \"input\", interactiveinput },\n",
    "                                { \"history\", string.Join(\"\\n\", history.Select(x => x.Role + \": \" + x.Content)) }});\n",
    "\n",
    "\n",
    "    // Stream the response\n",
    "    string message = \"\";\n",
    "    Console.Write(\"Fan question: \" + interactiveinput+\". \");\n",
    "    await foreach (var chunk in batman_answer)\n",
    "    {\n",
    "        if (chunk.Role.HasValue) Console.Write(chunk.Role + \" > \");\n",
    "        message += chunk;\n",
    "        Console.Write(chunk);\n",
    "    }\n",
    "    Console.WriteLine();\n",
    "\n",
    "    // Append to history    \n",
    "    history.AddUserMessage(interactiveinput!);\n",
    "    history.AddAssistantMessage(message);\n",
    "}"
   ]
  }
 ],
 "metadata": {
  "kernelspec": {
   "display_name": ".NET (C#)",
   "language": "C#",
   "name": ".net-csharp"
  },
  "language_info": {
   "name": "polyglot-notebook"
  },
  "polyglot_notebook": {
   "kernelInfo": {
    "defaultKernelName": "csharp",
    "items": [
     {
      "aliases": [],
      "languageName": "csharp",
      "name": "csharp"
     }
    ]
   }
  }
 },
 "nbformat": 4,
 "nbformat_minor": 2
}
