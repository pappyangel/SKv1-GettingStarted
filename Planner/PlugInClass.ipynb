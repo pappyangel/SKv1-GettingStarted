{
 "cells": [
  {
   "cell_type": "code",
   "execution_count": 1,
   "metadata": {
    "dotnet_interactive": {
     "language": "csharp"
    },
    "polyglot_notebook": {
     "kernelName": "csharp"
    },
    "vscode": {
     "languageId": "polyglot-notebook"
    }
   },
   "outputs": [
    {
     "data": {
      "text/html": [
       "<div><div></div><div></div><div><strong>Installed Packages</strong><ul><li><span>Microsoft.SemanticKernel, 1.0.1</span></li></ul></div></div>"
      ]
     },
     "metadata": {},
     "output_type": "display_data"
    }
   ],
   "source": [
    "// Import Semantic Kernel\n",
    "#r \"nuget: Microsoft.SemanticKernel, 1.0.1\""
   ]
  },
  {
   "cell_type": "code",
   "execution_count": 2,
   "metadata": {
    "dotnet_interactive": {
     "language": "csharp"
    },
    "polyglot_notebook": {
     "kernelName": "csharp"
    },
    "vscode": {
     "languageId": "polyglot-notebook"
    }
   },
   "outputs": [],
   "source": [
    "#!import ../Settings/AppConfig.cs\n",
    "\n",
    "AppConfig.aoaiSettings apiConfig = AppConfig.GetSecrets();\n",
    "\n",
    "// Get AOAI values\n",
    "string mydeploymentName = apiConfig.deployTurbo;\n",
    "string myendpoint = apiConfig.endpoint;\n",
    "string myAPIKey = apiConfig.APIKey;\n",
    "\n",
    "//NOTE: If you run the below writeline command, be sure to clear the output before pushing to repo!!\n",
    "//Console.WriteLine(mydeploymentName + \" & \" + myendpoint + \" & \" + myAPIKey);"
   ]
  },
  {
   "cell_type": "code",
   "execution_count": 21,
   "metadata": {
    "dotnet_interactive": {
     "language": "csharp"
    },
    "polyglot_notebook": {
     "kernelName": "csharp"
    },
    "vscode": {
     "languageId": "polyglot-notebook"
    }
   },
   "outputs": [],
   "source": [
    "#!import ../plugins/TimePlugin/TimePlugin.cs\n",
    "\n",
    "using System;\n",
    "using System.ComponentModel;\n",
    "using System.Threading.Tasks;\n",
    "\n",
    "using Microsoft.SemanticKernel;\n",
    "using Microsoft.SemanticKernel.Connectors.OpenAI;\n",
    "using Kernel = Microsoft.SemanticKernel.Kernel;\n",
    "using Microsoft.Extensions.Logging;\n",
    "using Microsoft.Extensions.Logging.Abstractions;\n",
    "using Microsoft.Extensions.DependencyInjection;\n",
    "\n",
    "ILoggerFactory myLoggerFactory = NullLoggerFactory.Instance;\n",
    "var builder = Kernel.CreateBuilder();\n",
    "\n",
    "//builder.Services.AddSingleton(myLoggerFactory);\n",
    "builder.Services.AddSingleton<ILoggerFactory>(myLoggerFactory);\n",
    "builder.AddAzureOpenAIChatCompletion(mydeploymentName, myendpoint, myAPIKey);\n",
    "builder.Plugins.AddFromType<TimeInformation>();\n",
    "\n",
    "var kernel = builder.Build();\n",
    "\n",
    "ILogger Bobo;\n",
    "  Bobo = myLoggerFactory.CreateLogger(typeof(TimeInformation));\n",
    "  Bobo.LogInformation(\"Bobo was here\");\n",
    "  //.Display(\"Bobo was here\");\n",
    "  \n",
    "  "
   ]
  },
  {
   "cell_type": "code",
   "execution_count": 9,
   "metadata": {
    "dotnet_interactive": {
     "language": "csharp"
    },
    "polyglot_notebook": {
     "kernelName": "csharp"
    },
    "vscode": {
     "languageId": "polyglot-notebook"
    }
   },
   "outputs": [
    {
     "name": "stdout",
     "output_type": "stream",
     "text": [
      "As an AI, I do not have access to real-time information. Consequently, I cannot provide you with the exact number of days until Christmas. To know the current date and calculate the number of days until Christmas, you may consult a calendar or use an online date calculator.\n"
     ]
    }
   ],
   "source": [
    "// Example 1. Invoke the kernel with a prompt that asks the AI for inromation it cannot provide and may hallucinate\n",
    "Console.WriteLine(await kernel.InvokePromptAsync(\"How many days until Christmas?  If you don't know todays date do not guess.\"));"
   ]
  },
  {
   "cell_type": "code",
   "execution_count": 5,
   "metadata": {
    "dotnet_interactive": {
     "language": "csharp"
    },
    "polyglot_notebook": {
     "kernelName": "csharp"
    },
    "vscode": {
     "languageId": "polyglot-notebook"
    }
   },
   "outputs": [
    {
     "name": "stdout",
     "output_type": "stream",
     "text": [
      "There are 360 days until Christmas.\n"
     ]
    }
   ],
   "source": [
    "// Example 2. Invoke the kernel with a templated prompt that invokes a plugin and display the result\n",
    "Console.WriteLine(await kernel.InvokePromptAsync(\"The current time is {{TimeInformation.GetCurrentUtcTime}}. How many days until Christmas?\"));\n"
   ]
  },
  {
   "cell_type": "code",
   "execution_count": 6,
   "metadata": {
    "dotnet_interactive": {
     "language": "csharp"
    },
    "polyglot_notebook": {
     "kernelName": "csharp"
    },
    "vscode": {
     "languageId": "polyglot-notebook"
    }
   },
   "outputs": [
    {
     "name": "stdout",
     "output_type": "stream",
     "text": [
      "To calculate the number of days until Christmas, we need to know the current date and then subtract that from December 25th.\n",
      "\n",
      "The implementation would use the `TimeInformation_GetCurrentUtcTime` function to get the current date, and then compute the number of days until Christmas by subtracting the current date from December 25th.\n",
      "\n",
      "Here's an example implementation in TypeScript:\n",
      "\n",
      "```typescript\n",
      "import { functions } from 'my-functions-package';\n",
      "\n",
      "async function getDaysUntilChristmas(): Promise<number> {\n",
      "  const currentDate = new Date(await functions.TimeInformation_GetCurrentUtcTime());\n",
      "  const christmasDate = new Date(currentDate.getFullYear(), 11, 25); // December is represented as 11 since months are zero-based in JavaScript\n",
      "\n",
      "  const timeDifference = christmasDate.getTime() - currentDate.getTime();\n",
      "  const daysUntilChristmas = Math.ceil(timeDifference / (1000 * 60 * 60 * 24)); // Convert milliseconds to days\n",
      "\n",
      "  return daysUntilChristmas;\n",
      "}\n",
      "\n",
      "const daysUntilChristmas = await getDaysUntilChristmas();\n",
      "console.log(`There are ${daysUntilChristmas} days until Christmas.`);\n",
      "```\n",
      "\n",
      "Note that this implementation assumes the `TimeInformation_GetCurrentUtcTime` function returns the current time in UTC format. Adjustments might be necessary if the function returns a different format.\n"
     ]
    }
   ],
   "source": [
    "// Example 3. Invoke the kernel with a prompt and allow the AI to automatically invoke functions\n",
    "OpenAIPromptExecutionSettings settings = new() { ToolCallBehavior = ToolCallBehavior.AutoInvokeKernelFunctions };\n",
    "Console.WriteLine(await kernel.InvokePromptAsync(\"How many days until Christmas? Explain your thinking.\", new(settings)));"
   ]
  }
 ],
 "metadata": {
  "kernelspec": {
   "display_name": "Python 3",
   "language": "python",
   "name": "python3"
  },
  "language_info": {
   "name": "python",
   "version": "3.10.13"
  },
  "polyglot_notebook": {
   "kernelInfo": {
    "defaultKernelName": "csharp",
    "items": [
     {
      "aliases": [],
      "languageName": "csharp",
      "name": "csharp"
     }
    ]
   }
  }
 },
 "nbformat": 4,
 "nbformat_minor": 2
}
