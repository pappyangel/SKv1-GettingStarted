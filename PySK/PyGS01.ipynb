{
 "cells": [
  {
   "cell_type": "code",
   "execution_count": null,
   "metadata": {},
   "outputs": [],
   "source": [
    "!python -m pip install semantic-kernel==0.4.3.dev0\n",
    "#!python -m pip install --upgrade semantic-kernel\n",
    "\n",
    "import os\n"
   ]
  },
  {
   "cell_type": "code",
   "execution_count": 1,
   "metadata": {},
   "outputs": [
    {
     "ename": "AssertionError",
     "evalue": "Azure OpenAI deployment name not found in .env file",
     "output_type": "error",
     "traceback": [
      "\u001b[0;31m---------------------------------------------------------------------------\u001b[0m",
      "\u001b[0;31mAssertionError\u001b[0m                            Traceback (most recent call last)",
      "Cell \u001b[0;32mIn[1], line 7\u001b[0m\n\u001b[1;32m      4\u001b[0m kernel \u001b[38;5;241m=\u001b[39m sk\u001b[38;5;241m.\u001b[39mKernel()\n\u001b[1;32m      6\u001b[0m \u001b[38;5;66;03m# Alternative using Azure:\u001b[39;00m\n\u001b[0;32m----> 7\u001b[0m deployment, api_key, endpoint \u001b[38;5;241m=\u001b[39m \u001b[43msk\u001b[49m\u001b[38;5;241;43m.\u001b[39;49m\u001b[43mazure_openai_settings_from_dot_env\u001b[49m\u001b[43m(\u001b[49m\u001b[43m)\u001b[49m\n\u001b[1;32m      8\u001b[0m \u001b[38;5;66;03m#print(deployment, api_key, endpoint)\u001b[39;00m\n\u001b[1;32m      9\u001b[0m \u001b[38;5;66;03m#kernel.add_chat_service(\"dv\", AzureChatCompletion(deployment, endpoint, api_key))\u001b[39;00m\n\u001b[1;32m     10\u001b[0m kernel\u001b[38;5;241m.\u001b[39madd_chat_service(\u001b[38;5;124m\"\u001b[39m\u001b[38;5;124mdv\u001b[39m\u001b[38;5;124m\"\u001b[39m, AzureChatCompletion(deployment_name\u001b[38;5;241m=\u001b[39mdeployment, endpoint\u001b[38;5;241m=\u001b[39mendpoint, api_key\u001b[38;5;241m=\u001b[39mapi_key))\n",
      "File \u001b[0;32m~/.python/current/lib/python3.10/site-packages/semantic_kernel/utils/settings.py:53\u001b[0m, in \u001b[0;36mazure_openai_settings_from_dot_env\u001b[0;34m(include_deployment, include_api_version)\u001b[0m\n\u001b[1;32m     50\u001b[0m \u001b[38;5;66;03m# Azure requires the deployment name, the API key and the endpoint URL.\u001b[39;00m\n\u001b[1;32m     51\u001b[0m \u001b[38;5;28;01mif\u001b[39;00m include_deployment:\n\u001b[1;32m     52\u001b[0m     \u001b[38;5;28;01massert\u001b[39;00m (\n\u001b[0;32m---> 53\u001b[0m         deployment \u001b[38;5;129;01mis\u001b[39;00m \u001b[38;5;129;01mnot\u001b[39;00m \u001b[38;5;28;01mNone\u001b[39;00m\n\u001b[1;32m     54\u001b[0m     ), \u001b[38;5;124m\"\u001b[39m\u001b[38;5;124mAzure OpenAI deployment name not found in .env file\u001b[39m\u001b[38;5;124m\"\u001b[39m\n\u001b[1;32m     55\u001b[0m \u001b[38;5;28;01mif\u001b[39;00m include_api_version:\n\u001b[1;32m     56\u001b[0m     \u001b[38;5;28;01massert\u001b[39;00m (\n\u001b[1;32m     57\u001b[0m         api_version \u001b[38;5;129;01mis\u001b[39;00m \u001b[38;5;129;01mnot\u001b[39;00m \u001b[38;5;28;01mNone\u001b[39;00m\n\u001b[1;32m     58\u001b[0m     ), \u001b[38;5;124m\"\u001b[39m\u001b[38;5;124mAzure OpenAI API version not found in .env file\u001b[39m\u001b[38;5;124m\"\u001b[39m\n",
      "\u001b[0;31mAssertionError\u001b[0m: Azure OpenAI deployment name not found in .env file"
     ]
    }
   ],
   "source": [
    "import semantic_kernel as sk\n",
    "from semantic_kernel.connectors.ai.open_ai import OpenAIChatCompletion, AzureChatCompletion\n",
    "\n",
    "kernel = sk.Kernel()\n",
    "\n",
    "# Alternative using Azure:\n",
    "deployment, api_key, endpoint = sk.azure_openai_settings_from_dot_env()\n",
    "#print(deployment, api_key, endpoint)\n",
    "#kernel.add_chat_service(\"dv\", AzureChatCompletion(deployment, endpoint, api_key))\n",
    "kernel.add_chat_service(\"dv\", AzureChatCompletion(deployment_name=deployment, endpoint=endpoint, api_key=api_key))\n"
   ]
  },
  {
   "cell_type": "code",
   "execution_count": 4,
   "metadata": {},
   "outputs": [
    {
     "name": "stdout",
     "output_type": "stream",
     "text": [
      "Robots must not harm humans.\n"
     ]
    }
   ],
   "source": [
    "# Wrap your prompt in a function\n",
    "prompt = kernel.create_semantic_function(\"\"\"\n",
    "1) A robot may not injure a human being or, through inaction,\n",
    "allow a human being to come to harm.\n",
    "\n",
    "2) A robot must obey orders given it by human beings except where\n",
    "such orders would conflict with the First Law.\n",
    "\n",
    "3) A robot must protect its own existence as long as such protection\n",
    "does not conflict with the First or Second Law.\n",
    "\n",
    "Give me the TLDR in exactly 5 words.\"\"\")\n",
    "\n",
    "# Run your prompt\n",
    "print(prompt()) # => Robots must not harm humans."
   ]
  }
 ],
 "metadata": {
  "kernelspec": {
   "display_name": "Python 3",
   "language": "python",
   "name": "python3"
  },
  "language_info": {
   "codemirror_mode": {
    "name": "ipython",
    "version": 3
   },
   "file_extension": ".py",
   "mimetype": "text/x-python",
   "name": "python",
   "nbconvert_exporter": "python",
   "pygments_lexer": "ipython3",
   "version": "3.10.13"
  }
 },
 "nbformat": 4,
 "nbformat_minor": 2
}
