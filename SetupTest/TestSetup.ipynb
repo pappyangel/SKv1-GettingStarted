{
 "cells": [
  {
   "cell_type": "code",
   "execution_count": 4,
   "metadata": {
    "dotnet_interactive": {
     "language": "csharp"
    },
    "polyglot_notebook": {
     "kernelName": "csharp"
    }
   },
   "outputs": [],
   "source": [
    "#!import ../Settings/AppConfig.cs\n",
    "\n",
    "AppConfig.aoaiSettings apiConfig = AppConfig.GetSecrets();\n",
    "\n",
    "// Get AOAI values\n",
    "string mydeploymentName = apiConfig.deployTurbo;\n",
    "string myendpoint = apiConfig.endpoint;\n",
    "string myAPIKey = apiConfig.APIKey;\n",
    "\n",
    "//NOTE: If you run the below writeline command, be sure to clear the output before pushing to repo!!\n",
    "//Console.WriteLine(mydeploymentName + \" & \" + myendpoint + \" & \" + myAPIKey);"
   ]
  },
  {
   "cell_type": "code",
   "execution_count": 5,
   "metadata": {
    "dotnet_interactive": {
     "language": "csharp"
    },
    "polyglot_notebook": {
     "kernelName": "csharp"
    }
   },
   "outputs": [
    {
     "data": {
      "text/html": [
       "<div><div></div><div></div><div><strong>Installed Packages</strong><ul><li><span>Microsoft.SemanticKernel, 1.0.1</span></li></ul></div></div>"
      ]
     },
     "metadata": {},
     "output_type": "display_data"
    }
   ],
   "source": [
    "// Import Semantic Kernel\n",
    "#r \"nuget: Microsoft.SemanticKernel, 1.0.1\""
   ]
  },
  {
   "cell_type": "code",
   "execution_count": 6,
   "metadata": {
    "dotnet_interactive": {
     "language": "csharp"
    },
    "polyglot_notebook": {
     "kernelName": "csharp"
    }
   },
   "outputs": [],
   "source": [
    "using Microsoft.SemanticKernel;\n",
    "using Kernel = Microsoft.SemanticKernel.Kernel;\n",
    "\n",
    "//Create Kernel builder\n",
    "var builder = Kernel.CreateBuilder();"
   ]
  },
  {
   "cell_type": "code",
   "execution_count": 7,
   "metadata": {
    "dotnet_interactive": {
     "language": "csharp"
    },
    "polyglot_notebook": {
     "kernelName": "csharp"
    }
   },
   "outputs": [],
   "source": [
    "// Configure AI service credentials used by the kernel\n",
    "\n",
    "builder.AddAzureOpenAIChatCompletion(mydeploymentName, myendpoint, myAPIKey);\n",
    "\n",
    "\n",
    "var kernel = builder.Build();"
   ]
  },
  {
   "cell_type": "code",
   "execution_count": 8,
   "metadata": {
    "dotnet_interactive": {
     "language": "csharp"
    },
    "polyglot_notebook": {
     "kernelName": "csharp"
    }
   },
   "outputs": [
    {
     "name": "stdout",
     "output_type": "stream",
     "text": [
      "Why did the T-Rex go to the dentist in the future? \n",
      "Because he had a dino-cavity from eating too many time travelers!\n"
     ]
    }
   ],
   "source": [
    "// FunPlugin directory path\n",
    "//var funPluginDirectoryPath = Path.Combine(System.IO.Directory.GetCurrentDirectory(), \"plugins\", \"FunPlugin\");\n",
    "var funPluginDirectoryPath = Path.Combine(System.IO.Directory.GetCurrentDirectory(), \"..\", \"plugins\", \"FunPlugin\");\n",
    "\n",
    "// Load the FunPlugin from the Plugins Directory\n",
    "var funPluginFunctions = kernel.ImportPluginFromPromptDirectory(funPluginDirectoryPath);\n",
    "\n",
    "// Construct arguments\n",
    "var arguments = new KernelArguments() { [\"input\"] = \"time travel to dinosaur age\" };\n",
    "\n",
    "// Run the Function called Joke\n",
    "var result = await kernel.InvokeAsync(funPluginFunctions[\"Joke\"], arguments);\n",
    "\n",
    "// Return the result to the Notebook\n",
    "Console.WriteLine(result);"
   ]
  }
 ],
 "metadata": {
  "kernelspec": {
   "display_name": ".NET (C#)",
   "language": "C#",
   "name": ".net-csharp"
  },
  "language_info": {
   "name": "polyglot-notebook"
  },
  "polyglot_notebook": {
   "kernelInfo": {
    "defaultKernelName": "csharp",
    "items": [
     {
      "aliases": [],
      "languageName": "csharp",
      "name": "csharp"
     }
    ]
   }
  }
 },
 "nbformat": 4,
 "nbformat_minor": 2
}
